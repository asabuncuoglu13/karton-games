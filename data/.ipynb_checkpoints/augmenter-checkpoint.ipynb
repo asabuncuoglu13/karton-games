{
 "cells": [
  {
   "cell_type": "code",
   "execution_count": 1,
   "metadata": {},
   "outputs": [],
   "source": [
    "from numpy import expand_dims\n",
    "from tensorflow.keras.preprocessing.image import load_img\n",
    "from tensorflow.keras.preprocessing.image import img_to_array\n",
    "from tensorflow.keras.preprocessing.image import ImageDataGenerator\n",
    "from matplotlib import pyplot\n",
    "from PIL import Image\n",
    "import glob\n",
    "import os\n",
    "import shutil"
   ]
  },
  {
   "cell_type": "code",
   "execution_count": 2,
   "metadata": {},
   "outputs": [],
   "source": [
    "i = 0\n",
    "image_list = []\n",
    "data_dir = './images'\n",
    "val_dir = './validation'\n",
    "if os.path.exists(data_dir):\n",
    "    shutil.rmtree(data_dir)\n",
    "if os.path.exists(val_dir):\n",
    "    shutil.rmtree(val_dir)\n",
    "os.makedirs(data_dir)\n",
    "os.makedirs(val_dir)"
   ]
  },
  {
   "cell_type": "code",
   "execution_count": 5,
   "metadata": {},
   "outputs": [],
   "source": [
    "datagen = ImageDataGenerator(\n",
    "    rotation_range=40,\n",
    "    width_shift_range=0.2,\n",
    "    height_shift_range=0.2,\n",
    "    rescale=1./255,\n",
    "    shear_range=0.2,\n",
    "    brightness_range= [0.2, 0.6],    \n",
    "    zoom_range=0.2,\n",
    "    horizontal_flip=True,\n",
    "    fill_mode='nearest')"
   ]
  },
  {
   "cell_type": "code",
   "execution_count": null,
   "metadata": {},
   "outputs": [],
   "source": [
    "for foldername in sorted(glob.glob('./flappy/*/')):\n",
    "    image_list = []\n",
    "    i += 1\n",
    "    # create new folder for each augmented image\n",
    "    alt_dir = data_dir + '/' + str(i) + '/'\n",
    "    alt_val_dir = val_dir + '/' + str(i) + '/'\n",
    "    os.makedirs(alt_dir)\n",
    "    os.makedirs(alt_val_dir)\n",
    "    for filename in sorted(glob.glob(foldername + '/*.*')):\n",
    "        im = Image.open(filename)\n",
    "        im = im.resize((512,512),Image.ANTIALIAS)\n",
    "        image_list.append(im)\n",
    "        for img in image_list:\n",
    "            # convert to numpy array\n",
    "            data = img_to_array(img)\n",
    "            # expand dimension to one sample\n",
    "            samples = expand_dims(data, 0)\n",
    "            # create image data augmentation generator\n",
    "            dflow = datagen.flow(samples, batch_size=1,save_to_dir=alt_dir,save_prefix=\"aug\",save_format=\"png\",)\n",
    "            \n",
    "            k = 0\n",
    "            for batch in dflow:\n",
    "                k+= 1\n",
    "                if k > 12:\n",
    "                    break  # otherwise the generator would loop indefinitely\n",
    "            \n",
    "            vflow = datagen.flow(samples, batch_size=1,save_to_dir=alt_val_dir,save_prefix=\"val\",save_format=\"png\",)\n",
    "            \n",
    "            j = 0\n",
    "            for batch in vflow:\n",
    "                j+= 1\n",
    "                if j > 3:\n",
    "                    break  # otherwise the generator would loop indefinitely"
   ]
  },
  {
   "cell_type": "code",
   "execution_count": null,
   "metadata": {},
   "outputs": [],
   "source": []
  }
 ],
 "metadata": {
  "kernelspec": {
   "display_name": "Python 3",
   "language": "python",
   "name": "python3"
  },
  "language_info": {
   "codemirror_mode": {
    "name": "ipython",
    "version": 3
   },
   "file_extension": ".py",
   "mimetype": "text/x-python",
   "name": "python",
   "nbconvert_exporter": "python",
   "pygments_lexer": "ipython3",
   "version": "3.8.5"
  }
 },
 "nbformat": 4,
 "nbformat_minor": 4
}
